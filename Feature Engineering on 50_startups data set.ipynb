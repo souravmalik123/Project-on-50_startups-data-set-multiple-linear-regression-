{
 "cells": [
  {
   "cell_type": "markdown",
   "id": "d76c070b",
   "metadata": {},
   "source": [
    "Import the data set"
   ]
  },
  {
   "cell_type": "code",
   "execution_count": 32,
   "id": "e56c8841",
   "metadata": {},
   "outputs": [],
   "source": [
    "import pandas as pd\n",
    "from sklearn.model_selection import train_test_split\n",
    "from sklearn.preprocessing import LabelEncoder\n",
    "from sklearn.preprocessing import StandardScaler\n",
    "from sklearn.linear_model import LinearRegression\n",
    "from sklearn.metrics import r2_score"
   ]
  },
  {
   "cell_type": "markdown",
   "id": "988ee12b",
   "metadata": {},
   "source": [
    "Load the data set"
   ]
  },
  {
   "cell_type": "code",
   "execution_count": 2,
   "id": "d423b389",
   "metadata": {},
   "outputs": [
    {
     "data": {
      "text/html": [
       "<div>\n",
       "<style scoped>\n",
       "    .dataframe tbody tr th:only-of-type {\n",
       "        vertical-align: middle;\n",
       "    }\n",
       "\n",
       "    .dataframe tbody tr th {\n",
       "        vertical-align: top;\n",
       "    }\n",
       "\n",
       "    .dataframe thead th {\n",
       "        text-align: right;\n",
       "    }\n",
       "</style>\n",
       "<table border=\"1\" class=\"dataframe\">\n",
       "  <thead>\n",
       "    <tr style=\"text-align: right;\">\n",
       "      <th></th>\n",
       "      <th>R&amp;D Spend</th>\n",
       "      <th>Administration</th>\n",
       "      <th>Marketing Spend</th>\n",
       "      <th>State</th>\n",
       "      <th>Profit</th>\n",
       "    </tr>\n",
       "  </thead>\n",
       "  <tbody>\n",
       "    <tr>\n",
       "      <th>0</th>\n",
       "      <td>165349.20</td>\n",
       "      <td>136897.80</td>\n",
       "      <td>471784.10</td>\n",
       "      <td>New York</td>\n",
       "      <td>192261.83</td>\n",
       "    </tr>\n",
       "    <tr>\n",
       "      <th>1</th>\n",
       "      <td>162597.70</td>\n",
       "      <td>151377.59</td>\n",
       "      <td>443898.53</td>\n",
       "      <td>California</td>\n",
       "      <td>191792.06</td>\n",
       "    </tr>\n",
       "    <tr>\n",
       "      <th>2</th>\n",
       "      <td>153441.51</td>\n",
       "      <td>101145.55</td>\n",
       "      <td>407934.54</td>\n",
       "      <td>Florida</td>\n",
       "      <td>191050.39</td>\n",
       "    </tr>\n",
       "    <tr>\n",
       "      <th>3</th>\n",
       "      <td>144372.41</td>\n",
       "      <td>118671.85</td>\n",
       "      <td>383199.62</td>\n",
       "      <td>New York</td>\n",
       "      <td>182901.99</td>\n",
       "    </tr>\n",
       "    <tr>\n",
       "      <th>4</th>\n",
       "      <td>142107.34</td>\n",
       "      <td>91391.77</td>\n",
       "      <td>366168.42</td>\n",
       "      <td>Florida</td>\n",
       "      <td>166187.94</td>\n",
       "    </tr>\n",
       "  </tbody>\n",
       "</table>\n",
       "</div>"
      ],
      "text/plain": [
       "   R&D Spend  Administration  Marketing Spend       State     Profit\n",
       "0  165349.20       136897.80        471784.10    New York  192261.83\n",
       "1  162597.70       151377.59        443898.53  California  191792.06\n",
       "2  153441.51       101145.55        407934.54     Florida  191050.39\n",
       "3  144372.41       118671.85        383199.62    New York  182901.99\n",
       "4  142107.34        91391.77        366168.42     Florida  166187.94"
      ]
     },
     "execution_count": 2,
     "metadata": {},
     "output_type": "execute_result"
    }
   ],
   "source": [
    "data = pd.read_csv(\"50_Startups.csv\")\n",
    "data.head()"
   ]
  },
  {
   "cell_type": "markdown",
   "id": "dfd54f59",
   "metadata": {},
   "source": [
    "Some information about the data set"
   ]
  },
  {
   "cell_type": "code",
   "execution_count": 3,
   "id": "1de127d5",
   "metadata": {},
   "outputs": [
    {
     "data": {
      "text/plain": [
       "(50, 5)"
      ]
     },
     "execution_count": 3,
     "metadata": {},
     "output_type": "execute_result"
    }
   ],
   "source": [
    "data.shape"
   ]
  },
  {
   "cell_type": "code",
   "execution_count": 4,
   "id": "782354b0",
   "metadata": {},
   "outputs": [
    {
     "data": {
      "text/plain": [
       "Index(['R&D Spend', 'Administration', 'Marketing Spend', 'State', 'Profit'], dtype='object')"
      ]
     },
     "execution_count": 4,
     "metadata": {},
     "output_type": "execute_result"
    }
   ],
   "source": [
    "data.columns"
   ]
  },
  {
   "cell_type": "markdown",
   "id": "0a9a2003",
   "metadata": {},
   "source": [
    "Some statistical information about the dataset"
   ]
  },
  {
   "cell_type": "code",
   "execution_count": 5,
   "id": "ea84d981",
   "metadata": {},
   "outputs": [
    {
     "name": "stdout",
     "output_type": "stream",
     "text": [
      "<class 'pandas.core.frame.DataFrame'>\n",
      "RangeIndex: 50 entries, 0 to 49\n",
      "Data columns (total 5 columns):\n",
      " #   Column           Non-Null Count  Dtype  \n",
      "---  ------           --------------  -----  \n",
      " 0   R&D Spend        50 non-null     float64\n",
      " 1   Administration   50 non-null     float64\n",
      " 2   Marketing Spend  50 non-null     float64\n",
      " 3   State            50 non-null     object \n",
      " 4   Profit           50 non-null     float64\n",
      "dtypes: float64(4), object(1)\n",
      "memory usage: 2.1+ KB\n"
     ]
    }
   ],
   "source": [
    "data.info()"
   ]
  },
  {
   "cell_type": "code",
   "execution_count": 6,
   "id": "8ad03245",
   "metadata": {},
   "outputs": [
    {
     "data": {
      "text/html": [
       "<div>\n",
       "<style scoped>\n",
       "    .dataframe tbody tr th:only-of-type {\n",
       "        vertical-align: middle;\n",
       "    }\n",
       "\n",
       "    .dataframe tbody tr th {\n",
       "        vertical-align: top;\n",
       "    }\n",
       "\n",
       "    .dataframe thead th {\n",
       "        text-align: right;\n",
       "    }\n",
       "</style>\n",
       "<table border=\"1\" class=\"dataframe\">\n",
       "  <thead>\n",
       "    <tr style=\"text-align: right;\">\n",
       "      <th></th>\n",
       "      <th>R&amp;D Spend</th>\n",
       "      <th>Administration</th>\n",
       "      <th>Marketing Spend</th>\n",
       "      <th>Profit</th>\n",
       "    </tr>\n",
       "  </thead>\n",
       "  <tbody>\n",
       "    <tr>\n",
       "      <th>count</th>\n",
       "      <td>50.000000</td>\n",
       "      <td>50.000000</td>\n",
       "      <td>50.000000</td>\n",
       "      <td>50.000000</td>\n",
       "    </tr>\n",
       "    <tr>\n",
       "      <th>mean</th>\n",
       "      <td>73721.615600</td>\n",
       "      <td>121344.639600</td>\n",
       "      <td>211025.097800</td>\n",
       "      <td>112012.639200</td>\n",
       "    </tr>\n",
       "    <tr>\n",
       "      <th>std</th>\n",
       "      <td>45902.256482</td>\n",
       "      <td>28017.802755</td>\n",
       "      <td>122290.310726</td>\n",
       "      <td>40306.180338</td>\n",
       "    </tr>\n",
       "    <tr>\n",
       "      <th>min</th>\n",
       "      <td>0.000000</td>\n",
       "      <td>51283.140000</td>\n",
       "      <td>0.000000</td>\n",
       "      <td>14681.400000</td>\n",
       "    </tr>\n",
       "    <tr>\n",
       "      <th>25%</th>\n",
       "      <td>39936.370000</td>\n",
       "      <td>103730.875000</td>\n",
       "      <td>129300.132500</td>\n",
       "      <td>90138.902500</td>\n",
       "    </tr>\n",
       "    <tr>\n",
       "      <th>50%</th>\n",
       "      <td>73051.080000</td>\n",
       "      <td>122699.795000</td>\n",
       "      <td>212716.240000</td>\n",
       "      <td>107978.190000</td>\n",
       "    </tr>\n",
       "    <tr>\n",
       "      <th>75%</th>\n",
       "      <td>101602.800000</td>\n",
       "      <td>144842.180000</td>\n",
       "      <td>299469.085000</td>\n",
       "      <td>139765.977500</td>\n",
       "    </tr>\n",
       "    <tr>\n",
       "      <th>max</th>\n",
       "      <td>165349.200000</td>\n",
       "      <td>182645.560000</td>\n",
       "      <td>471784.100000</td>\n",
       "      <td>192261.830000</td>\n",
       "    </tr>\n",
       "  </tbody>\n",
       "</table>\n",
       "</div>"
      ],
      "text/plain": [
       "           R&D Spend  Administration  Marketing Spend         Profit\n",
       "count      50.000000       50.000000        50.000000      50.000000\n",
       "mean    73721.615600   121344.639600    211025.097800  112012.639200\n",
       "std     45902.256482    28017.802755    122290.310726   40306.180338\n",
       "min         0.000000    51283.140000         0.000000   14681.400000\n",
       "25%     39936.370000   103730.875000    129300.132500   90138.902500\n",
       "50%     73051.080000   122699.795000    212716.240000  107978.190000\n",
       "75%    101602.800000   144842.180000    299469.085000  139765.977500\n",
       "max    165349.200000   182645.560000    471784.100000  192261.830000"
      ]
     },
     "execution_count": 6,
     "metadata": {},
     "output_type": "execute_result"
    }
   ],
   "source": [
    "data.describe()"
   ]
  },
  {
   "cell_type": "code",
   "execution_count": 7,
   "id": "50aec620",
   "metadata": {},
   "outputs": [
    {
     "data": {
      "text/plain": [
       "New York      17\n",
       "California    17\n",
       "Florida       16\n",
       "Name: State, dtype: int64"
      ]
     },
     "execution_count": 7,
     "metadata": {},
     "output_type": "execute_result"
    }
   ],
   "source": [
    "data[\"State\"].value_counts()"
   ]
  },
  {
   "cell_type": "markdown",
   "id": "79ad48c9",
   "metadata": {},
   "source": [
    "Load the label encoder function"
   ]
  },
  {
   "cell_type": "code",
   "execution_count": 8,
   "id": "e9986c75",
   "metadata": {},
   "outputs": [
    {
     "name": "stdout",
     "output_type": "stream",
     "text": [
      "Load the Label Encoder function\n"
     ]
    }
   ],
   "source": [
    "label_encode = LabelEncoder()\n",
    "print(\"Load the Label Encoder function\")"
   ]
  },
  {
   "cell_type": "code",
   "execution_count": 9,
   "id": "934b7514",
   "metadata": {},
   "outputs": [],
   "source": [
    "data[\"State\"] = label_encode.fit_transform(data[\"State\"])"
   ]
  },
  {
   "cell_type": "code",
   "execution_count": 10,
   "id": "23535c0c",
   "metadata": {},
   "outputs": [
    {
     "data": {
      "text/html": [
       "<div>\n",
       "<style scoped>\n",
       "    .dataframe tbody tr th:only-of-type {\n",
       "        vertical-align: middle;\n",
       "    }\n",
       "\n",
       "    .dataframe tbody tr th {\n",
       "        vertical-align: top;\n",
       "    }\n",
       "\n",
       "    .dataframe thead th {\n",
       "        text-align: right;\n",
       "    }\n",
       "</style>\n",
       "<table border=\"1\" class=\"dataframe\">\n",
       "  <thead>\n",
       "    <tr style=\"text-align: right;\">\n",
       "      <th></th>\n",
       "      <th>R&amp;D Spend</th>\n",
       "      <th>Administration</th>\n",
       "      <th>Marketing Spend</th>\n",
       "      <th>State</th>\n",
       "      <th>Profit</th>\n",
       "    </tr>\n",
       "  </thead>\n",
       "  <tbody>\n",
       "    <tr>\n",
       "      <th>0</th>\n",
       "      <td>165349.20</td>\n",
       "      <td>136897.80</td>\n",
       "      <td>471784.10</td>\n",
       "      <td>2</td>\n",
       "      <td>192261.83</td>\n",
       "    </tr>\n",
       "    <tr>\n",
       "      <th>1</th>\n",
       "      <td>162597.70</td>\n",
       "      <td>151377.59</td>\n",
       "      <td>443898.53</td>\n",
       "      <td>0</td>\n",
       "      <td>191792.06</td>\n",
       "    </tr>\n",
       "    <tr>\n",
       "      <th>2</th>\n",
       "      <td>153441.51</td>\n",
       "      <td>101145.55</td>\n",
       "      <td>407934.54</td>\n",
       "      <td>1</td>\n",
       "      <td>191050.39</td>\n",
       "    </tr>\n",
       "    <tr>\n",
       "      <th>3</th>\n",
       "      <td>144372.41</td>\n",
       "      <td>118671.85</td>\n",
       "      <td>383199.62</td>\n",
       "      <td>2</td>\n",
       "      <td>182901.99</td>\n",
       "    </tr>\n",
       "    <tr>\n",
       "      <th>4</th>\n",
       "      <td>142107.34</td>\n",
       "      <td>91391.77</td>\n",
       "      <td>366168.42</td>\n",
       "      <td>1</td>\n",
       "      <td>166187.94</td>\n",
       "    </tr>\n",
       "  </tbody>\n",
       "</table>\n",
       "</div>"
      ],
      "text/plain": [
       "   R&D Spend  Administration  Marketing Spend  State     Profit\n",
       "0  165349.20       136897.80        471784.10      2  192261.83\n",
       "1  162597.70       151377.59        443898.53      0  191792.06\n",
       "2  153441.51       101145.55        407934.54      1  191050.39\n",
       "3  144372.41       118671.85        383199.62      2  182901.99\n",
       "4  142107.34        91391.77        366168.42      1  166187.94"
      ]
     },
     "execution_count": 10,
     "metadata": {},
     "output_type": "execute_result"
    }
   ],
   "source": [
    "data.head()"
   ]
  },
  {
   "cell_type": "code",
   "execution_count": 11,
   "id": "2e39bdb9",
   "metadata": {},
   "outputs": [
    {
     "data": {
      "text/html": [
       "<div>\n",
       "<style scoped>\n",
       "    .dataframe tbody tr th:only-of-type {\n",
       "        vertical-align: middle;\n",
       "    }\n",
       "\n",
       "    .dataframe tbody tr th {\n",
       "        vertical-align: top;\n",
       "    }\n",
       "\n",
       "    .dataframe thead th {\n",
       "        text-align: right;\n",
       "    }\n",
       "</style>\n",
       "<table border=\"1\" class=\"dataframe\">\n",
       "  <thead>\n",
       "    <tr style=\"text-align: right;\">\n",
       "      <th></th>\n",
       "      <th>R&amp;D Spend</th>\n",
       "      <th>Administration</th>\n",
       "      <th>Marketing Spend</th>\n",
       "      <th>State</th>\n",
       "      <th>Profit</th>\n",
       "    </tr>\n",
       "  </thead>\n",
       "  <tbody>\n",
       "    <tr>\n",
       "      <th>count</th>\n",
       "      <td>50.000000</td>\n",
       "      <td>50.000000</td>\n",
       "      <td>50.000000</td>\n",
       "      <td>50.000000</td>\n",
       "      <td>50.000000</td>\n",
       "    </tr>\n",
       "    <tr>\n",
       "      <th>mean</th>\n",
       "      <td>73721.615600</td>\n",
       "      <td>121344.639600</td>\n",
       "      <td>211025.097800</td>\n",
       "      <td>1.000000</td>\n",
       "      <td>112012.639200</td>\n",
       "    </tr>\n",
       "    <tr>\n",
       "      <th>std</th>\n",
       "      <td>45902.256482</td>\n",
       "      <td>28017.802755</td>\n",
       "      <td>122290.310726</td>\n",
       "      <td>0.832993</td>\n",
       "      <td>40306.180338</td>\n",
       "    </tr>\n",
       "    <tr>\n",
       "      <th>min</th>\n",
       "      <td>0.000000</td>\n",
       "      <td>51283.140000</td>\n",
       "      <td>0.000000</td>\n",
       "      <td>0.000000</td>\n",
       "      <td>14681.400000</td>\n",
       "    </tr>\n",
       "    <tr>\n",
       "      <th>25%</th>\n",
       "      <td>39936.370000</td>\n",
       "      <td>103730.875000</td>\n",
       "      <td>129300.132500</td>\n",
       "      <td>0.000000</td>\n",
       "      <td>90138.902500</td>\n",
       "    </tr>\n",
       "    <tr>\n",
       "      <th>50%</th>\n",
       "      <td>73051.080000</td>\n",
       "      <td>122699.795000</td>\n",
       "      <td>212716.240000</td>\n",
       "      <td>1.000000</td>\n",
       "      <td>107978.190000</td>\n",
       "    </tr>\n",
       "    <tr>\n",
       "      <th>75%</th>\n",
       "      <td>101602.800000</td>\n",
       "      <td>144842.180000</td>\n",
       "      <td>299469.085000</td>\n",
       "      <td>2.000000</td>\n",
       "      <td>139765.977500</td>\n",
       "    </tr>\n",
       "    <tr>\n",
       "      <th>max</th>\n",
       "      <td>165349.200000</td>\n",
       "      <td>182645.560000</td>\n",
       "      <td>471784.100000</td>\n",
       "      <td>2.000000</td>\n",
       "      <td>192261.830000</td>\n",
       "    </tr>\n",
       "  </tbody>\n",
       "</table>\n",
       "</div>"
      ],
      "text/plain": [
       "           R&D Spend  Administration  Marketing Spend      State  \\\n",
       "count      50.000000       50.000000        50.000000  50.000000   \n",
       "mean    73721.615600   121344.639600    211025.097800   1.000000   \n",
       "std     45902.256482    28017.802755    122290.310726   0.832993   \n",
       "min         0.000000    51283.140000         0.000000   0.000000   \n",
       "25%     39936.370000   103730.875000    129300.132500   0.000000   \n",
       "50%     73051.080000   122699.795000    212716.240000   1.000000   \n",
       "75%    101602.800000   144842.180000    299469.085000   2.000000   \n",
       "max    165349.200000   182645.560000    471784.100000   2.000000   \n",
       "\n",
       "              Profit  \n",
       "count      50.000000  \n",
       "mean   112012.639200  \n",
       "std     40306.180338  \n",
       "min     14681.400000  \n",
       "25%     90138.902500  \n",
       "50%    107978.190000  \n",
       "75%    139765.977500  \n",
       "max    192261.830000  "
      ]
     },
     "execution_count": 11,
     "metadata": {},
     "output_type": "execute_result"
    }
   ],
   "source": [
    "data.describe()"
   ]
  },
  {
   "cell_type": "markdown",
   "id": "cfb5cf40",
   "metadata": {},
   "source": [
    "Spliting the data set into feature and target"
   ]
  },
  {
   "cell_type": "code",
   "execution_count": 12,
   "id": "3756a0f7",
   "metadata": {},
   "outputs": [],
   "source": [
    "x = data.drop(columns=[\"Profit\"],axis=1)\n",
    "y = data[\"Profit\"]\n"
   ]
  },
  {
   "cell_type": "code",
   "execution_count": 13,
   "id": "08bdf972",
   "metadata": {},
   "outputs": [
    {
     "name": "stdout",
     "output_type": "stream",
     "text": [
      "    R&D Spend  Administration  Marketing Spend  State\n",
      "0   165349.20       136897.80        471784.10      2\n",
      "1   162597.70       151377.59        443898.53      0\n",
      "2   153441.51       101145.55        407934.54      1\n",
      "3   144372.41       118671.85        383199.62      2\n",
      "4   142107.34        91391.77        366168.42      1\n",
      "5   131876.90        99814.71        362861.36      2\n",
      "6   134615.46       147198.87        127716.82      0\n",
      "7   130298.13       145530.06        323876.68      1\n",
      "8   120542.52       148718.95        311613.29      2\n",
      "9   123334.88       108679.17        304981.62      0\n",
      "10  101913.08       110594.11        229160.95      1\n",
      "11  100671.96        91790.61        249744.55      0\n",
      "12   93863.75       127320.38        249839.44      1\n",
      "13   91992.39       135495.07        252664.93      0\n",
      "14  119943.24       156547.42        256512.92      1\n",
      "15  114523.61       122616.84        261776.23      2\n",
      "16   78013.11       121597.55        264346.06      0\n",
      "17   94657.16       145077.58        282574.31      2\n",
      "18   91749.16       114175.79        294919.57      1\n",
      "19   86419.70       153514.11             0.00      2\n",
      "20   76253.86       113867.30        298664.47      0\n",
      "21   78389.47       153773.43        299737.29      2\n",
      "22   73994.56       122782.75        303319.26      1\n",
      "23   67532.53       105751.03        304768.73      1\n",
      "24   77044.01        99281.34        140574.81      2\n",
      "25   64664.71       139553.16        137962.62      0\n",
      "26   75328.87       144135.98        134050.07      1\n",
      "27   72107.60       127864.55        353183.81      2\n",
      "28   66051.52       182645.56        118148.20      1\n",
      "29   65605.48       153032.06        107138.38      2\n",
      "30   61994.48       115641.28         91131.24      1\n",
      "31   61136.38       152701.92         88218.23      2\n",
      "32   63408.86       129219.61         46085.25      0\n",
      "33   55493.95       103057.49        214634.81      1\n",
      "34   46426.07       157693.92        210797.67      0\n",
      "35   46014.02        85047.44        205517.64      2\n",
      "36   28663.76       127056.21        201126.82      1\n",
      "37   44069.95        51283.14        197029.42      0\n",
      "38   20229.59        65947.93        185265.10      2\n",
      "39   38558.51        82982.09        174999.30      0\n",
      "40   28754.33       118546.05        172795.67      0\n",
      "41   27892.92        84710.77        164470.71      1\n",
      "42   23640.93        96189.63        148001.11      0\n",
      "43   15505.73       127382.30         35534.17      2\n",
      "44   22177.74       154806.14         28334.72      0\n",
      "45    1000.23       124153.04          1903.93      2\n",
      "46    1315.46       115816.21        297114.46      1\n",
      "47       0.00       135426.92             0.00      0\n",
      "48     542.05        51743.15             0.00      2\n",
      "49       0.00       116983.80         45173.06      0\n"
     ]
    }
   ],
   "source": [
    "print(x)"
   ]
  },
  {
   "cell_type": "code",
   "execution_count": 14,
   "id": "fc1dfad2",
   "metadata": {},
   "outputs": [
    {
     "name": "stdout",
     "output_type": "stream",
     "text": [
      "0     192261.83\n",
      "1     191792.06\n",
      "2     191050.39\n",
      "3     182901.99\n",
      "4     166187.94\n",
      "5     156991.12\n",
      "6     156122.51\n",
      "7     155752.60\n",
      "8     152211.77\n",
      "9     149759.96\n",
      "10    146121.95\n",
      "11    144259.40\n",
      "12    141585.52\n",
      "13    134307.35\n",
      "14    132602.65\n",
      "15    129917.04\n",
      "16    126992.93\n",
      "17    125370.37\n",
      "18    124266.90\n",
      "19    122776.86\n",
      "20    118474.03\n",
      "21    111313.02\n",
      "22    110352.25\n",
      "23    108733.99\n",
      "24    108552.04\n",
      "25    107404.34\n",
      "26    105733.54\n",
      "27    105008.31\n",
      "28    103282.38\n",
      "29    101004.64\n",
      "30     99937.59\n",
      "31     97483.56\n",
      "32     97427.84\n",
      "33     96778.92\n",
      "34     96712.80\n",
      "35     96479.51\n",
      "36     90708.19\n",
      "37     89949.14\n",
      "38     81229.06\n",
      "39     81005.76\n",
      "40     78239.91\n",
      "41     77798.83\n",
      "42     71498.49\n",
      "43     69758.98\n",
      "44     65200.33\n",
      "45     64926.08\n",
      "46     49490.75\n",
      "47     42559.73\n",
      "48     35673.41\n",
      "49     14681.40\n",
      "Name: Profit, dtype: float64\n"
     ]
    }
   ],
   "source": [
    "print(y)"
   ]
  },
  {
   "cell_type": "markdown",
   "id": "adf2511d",
   "metadata": {},
   "source": [
    "Spliting the data into train test split"
   ]
  },
  {
   "cell_type": "code",
   "execution_count": 15,
   "id": "e78d5819",
   "metadata": {},
   "outputs": [],
   "source": [
    "x_train,x_test,y_train,y_test = train_test_split(x,y,test_size=0.2,random_state=3)"
   ]
  },
  {
   "cell_type": "code",
   "execution_count": 16,
   "id": "824b5270",
   "metadata": {},
   "outputs": [
    {
     "name": "stdout",
     "output_type": "stream",
     "text": [
      "(50, 4) (40, 4) (10, 4)\n"
     ]
    }
   ],
   "source": [
    "print(x.shape,x_train.shape,x_test.shape)"
   ]
  },
  {
   "cell_type": "code",
   "execution_count": 17,
   "id": "b1893d05",
   "metadata": {},
   "outputs": [
    {
     "name": "stdout",
     "output_type": "stream",
     "text": [
      "Load The Model\n"
     ]
    }
   ],
   "source": [
    "scaler = StandardScaler()\n",
    "print(\"Load The Model\")"
   ]
  },
  {
   "cell_type": "code",
   "execution_count": 21,
   "id": "ecfb98e7",
   "metadata": {},
   "outputs": [],
   "source": [
    "x_train = scaler.fit_transform(x_train)"
   ]
  },
  {
   "cell_type": "code",
   "execution_count": 22,
   "id": "dfc16012",
   "metadata": {},
   "outputs": [
    {
     "name": "stdout",
     "output_type": "stream",
     "text": [
      "[[-1.08893857  0.25772204 -0.25548125 -0.06213698]\n",
      " [-0.21101013 -0.57623306  0.63627087 -0.06213698]\n",
      " [-0.74095914 -2.70828614 -0.29073595 -1.30487651]\n",
      " [ 0.3359706  -0.24646014  0.55152707 -0.06213698]\n",
      " [ 1.4734102  -1.13830192  1.16456395 -0.06213698]\n",
      " [-0.27578555  0.74689393 -0.79895646 -1.30487651]\n",
      " [ 0.0257146   0.04405206  0.28846754 -1.30487651]\n",
      " [ 0.85037682  0.08395043  0.2663563   1.18060256]\n",
      " [-0.336098   -0.18909602 -1.20190139 -0.06213698]\n",
      " [ 0.53750977 -1.12269     0.16283374 -1.30487651]\n",
      " [ 1.20667572  0.98084953  0.80067883 -0.06213698]\n",
      " [-1.08689286 -0.07539373 -0.49924714 -1.30487651]\n",
      " [-0.10767308  0.28936313  1.05284222  1.18060256]\n",
      " [-0.68774149  1.45698318 -0.17227165 -1.30487651]\n",
      " [-1.70665429 -0.18224868  0.57041227 -0.06213698]\n",
      " [ 1.24233537 -0.80860023  1.13610946  1.18060256]\n",
      " [-1.38613883  0.27048628 -1.68026777  1.18060256]\n",
      " [ 1.93622571  1.20974116  1.83336666 -1.30487651]\n",
      " [-0.69704846 -1.38663994 -0.2177019   1.18060256]\n",
      " [ 1.72941496 -0.75650676  1.52392655 -0.06213698]\n",
      " [-0.06505234  0.0904447   0.62379939 -0.06213698]\n",
      " [-0.48292539 -0.68166711 -0.13925627 -0.06213698]\n",
      " [ 0.40165356  0.96313797  0.44530642  1.18060256]\n",
      " [-0.03491429  0.92628063 -0.83262069 -0.06213698]\n",
      " [ 0.97278994  1.41210538  0.22106991 -0.06213698]\n",
      " [-0.25453639  1.27450258 -1.06417331  1.18060256]\n",
      " [-0.01402156 -0.25853545  0.58374881 -1.30487651]\n",
      " [-0.30415142  0.34240466 -1.58948453 -1.30487651]\n",
      " [-1.27944106 -2.13425783 -0.39195811  1.18060256]\n",
      " [-1.23543822  1.34394593 -1.74221303 -1.30487651]\n",
      " [-1.73636657 -0.13654535 -1.59733317 -1.30487651]\n",
      " [-1.10634952 -1.39981832 -0.57087647 -0.06213698]\n",
      " [ 0.56554293 -0.38665892 -0.01427096 -0.06213698]\n",
      " [ 0.21559415  1.29337161 -1.98600964  1.18060256]\n",
      " [ 0.03421544  1.30352225  0.59297953  1.18060256]\n",
      " [ 1.99837381  0.64295437  2.07329872  1.18060256]\n",
      " [ 0.98632587  1.10567321  0.6951626   1.18060256]\n",
      " [ 1.52457131 -0.0704695   1.31110321  1.18060256]\n",
      " [ 0.00382555 -0.82947809 -0.77648075  1.18060256]\n",
      " [-1.20238917 -0.95049783 -0.71258363 -1.30487651]]\n"
     ]
    }
   ],
   "source": [
    "print(x_train)"
   ]
  },
  {
   "cell_type": "code",
   "execution_count": 23,
   "id": "6b6eb9b9",
   "metadata": {},
   "outputs": [
    {
     "name": "stdout",
     "output_type": "stream",
     "text": [
      "1.0\n"
     ]
    }
   ],
   "source": [
    "print(x_train.std())"
   ]
  },
  {
   "cell_type": "code",
   "execution_count": 24,
   "id": "f3c017cd",
   "metadata": {},
   "outputs": [
    {
     "name": "stdout",
     "output_type": "stream",
     "text": [
      "[[ 0.38373282  0.26806252  0.16365019 -0.06213698]\n",
      " [-0.86544597 -1.46748456 -0.48028675 -1.30487651]\n",
      " [ 1.04939687 -0.46161599  0.63810261 -1.30487651]\n",
      " [-1.73636657  0.58537927 -1.98600964 -1.30487651]\n",
      " [-0.35547989  1.26157981 -1.22696541  1.18060256]\n",
      " [-0.24446169  2.43367276 -0.969443   -0.06213698]\n",
      " [ 0.34146443  0.58804688  0.18796117 -1.30487651]\n",
      " [-1.72412329 -2.69027983 -1.98600964  1.18060256]\n",
      " [-1.71377438  0.14408238 -1.96962791  1.18060256]\n",
      " [ 1.3041912   1.04617226 -0.88711302 -1.30487651]]\n"
     ]
    }
   ],
   "source": [
    "x_test = scaler.transform(x_test)\n",
    "print(x_test)"
   ]
  },
  {
   "cell_type": "code",
   "execution_count": 25,
   "id": "fd05a797",
   "metadata": {},
   "outputs": [
    {
     "name": "stdout",
     "output_type": "stream",
     "text": [
      "1.1809177655865086\n"
     ]
    }
   ],
   "source": [
    "print(x_test.std())"
   ]
  },
  {
   "cell_type": "code",
   "execution_count": 26,
   "id": "ce3f7eda",
   "metadata": {},
   "outputs": [
    {
     "name": "stdout",
     "output_type": "stream",
     "text": [
      "Load The Model\n"
     ]
    }
   ],
   "source": [
    "model = LinearRegression()\n",
    "print(\"Load The Model\")"
   ]
  },
  {
   "cell_type": "code",
   "execution_count": 28,
   "id": "8a407b2d",
   "metadata": {},
   "outputs": [
    {
     "name": "stdout",
     "output_type": "stream",
     "text": [
      "Model is trainned\n"
     ]
    }
   ],
   "source": [
    "model_train = model.fit(x_train,y_train)\n",
    "print(\"Model is trainned\")"
   ]
  },
  {
   "cell_type": "code",
   "execution_count": 29,
   "id": "316c7d0c",
   "metadata": {},
   "outputs": [],
   "source": [
    "model_pred = model_train.predict(x_test)"
   ]
  },
  {
   "cell_type": "code",
   "execution_count": 30,
   "id": "3399e459",
   "metadata": {},
   "outputs": [
    {
     "name": "stdout",
     "output_type": "stream",
     "text": [
      "[128702.69304691  85659.2266389  156171.59195638  45645.02919205\n",
      "  95665.57123074  98241.86668068 126938.46967509  52353.72786651\n",
      "  46648.50311576 158355.76233462]\n"
     ]
    }
   ],
   "source": [
    "print(model_pred)"
   ]
  },
  {
   "cell_type": "code",
   "execution_count": 31,
   "id": "761a817f",
   "metadata": {},
   "outputs": [
    {
     "name": "stdout",
     "output_type": "stream",
     "text": [
      "12    141585.52\n",
      "39     81005.76\n",
      "9     149759.96\n",
      "47     42559.73\n",
      "31     97483.56\n",
      "28    103282.38\n",
      "13    134307.35\n",
      "48     35673.41\n",
      "45     64926.08\n",
      "6     156122.51\n",
      "Name: Profit, dtype: float64\n"
     ]
    }
   ],
   "source": [
    "print(y_test)"
   ]
  },
  {
   "cell_type": "code",
   "execution_count": 33,
   "id": "367bf507",
   "metadata": {},
   "outputs": [],
   "source": [
    "model_acc = r2_score(y_test,model_pred)"
   ]
  },
  {
   "cell_type": "code",
   "execution_count": 34,
   "id": "41307e22",
   "metadata": {},
   "outputs": [
    {
     "name": "stdout",
     "output_type": "stream",
     "text": [
      "0.9465912289066153\n"
     ]
    }
   ],
   "source": [
    "print(model_acc)"
   ]
  },
  {
   "cell_type": "code",
   "execution_count": null,
   "id": "68d083b5",
   "metadata": {},
   "outputs": [],
   "source": []
  }
 ],
 "metadata": {
  "kernelspec": {
   "display_name": "Python 3 (ipykernel)",
   "language": "python",
   "name": "python3"
  },
  "language_info": {
   "codemirror_mode": {
    "name": "ipython",
    "version": 3
   },
   "file_extension": ".py",
   "mimetype": "text/x-python",
   "name": "python",
   "nbconvert_exporter": "python",
   "pygments_lexer": "ipython3",
   "version": "3.11.4"
  }
 },
 "nbformat": 4,
 "nbformat_minor": 5
}
